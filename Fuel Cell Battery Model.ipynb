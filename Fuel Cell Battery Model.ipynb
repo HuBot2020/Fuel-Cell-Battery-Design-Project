{
 "cells": [
  {
   "cell_type": "code",
   "execution_count": 1,
   "metadata": {},
   "outputs": [],
   "source": [
    "## this model uses equations found in Fuel Cell Fundamentals 3rd Edition for\n",
    "## PEMFC modeling\n",
    "#we will use V = E_t - E_o - E_c \n",
    "#V is cell voltage, E_t is thermo, E_o is ohmimc losses, E_c is cathode overpotential <br>\n"
   ]
  },
  {
   "cell_type": "code",
   "execution_count": 2,
   "metadata": {},
   "outputs": [],
   "source": [
    "import scipy.optimize as opt\n",
    "from scipy.integrate import quad\n",
    "from numpy import exp \n",
    "from numpy import log\n",
    "import timeit"
   ]
  },
  {
   "cell_type": "code",
   "execution_count": 3,
   "metadata": {},
   "outputs": [],
   "source": [
    "t_m = 125\n",
    "t_A = 350\n",
    "t_C = 350\n",
    "#membrane thickness [um], #anode thickness [um], #cathode thickness [um]\n",
    "\n",
    "p_a = 3\n",
    "p_c = 3\n",
    "p_SAT = 0.307\n",
    "#anode pressure [atm], cathode pressure [atm], vapor saturation pressure [atm]\n",
    "\n",
    "F = 96485\n",
    "R = 8.314\n",
    "#Faraday's constant [C/mol], gas constant [J/mol*K]\n",
    "\n",
    "T = 343\n",
    "#FC operating temperature [K]\n",
    "\n",
    "x_wa = 0.1\n",
    "x_wd = 0.1 \n",
    "#water mole fraction for anode and cathode\n",
    "\n",
    "x_o = 0.19\n",
    "#oxygen mole fraction at cathode catalyst layer\n",
    "\n",
    "D_effa = 0.149\n",
    "D_effc = 0.0295\n",
    "#effective hydrogen/water diffusivity (anode) [cm^2/s], effective oxygen/water diffusivity (cathode) [cm^2/s]\n",
    "\n",
    "j_0 = 0.0001\n",
    "#reference current [A/cm^2]"
   ]
  },
  {
   "cell_type": "code",
   "execution_count": 4,
   "metadata": {},
   "outputs": [],
   "source": [
    "#E_o or ohmic overpotential calculations\n",
    "def eqn(variables):\n",
    "    (a, C) = variables\n",
    "    \n",
    "    eqn1 = 14*(p_a/p_SAT)*(x_wa - t_A*0.000001*((a*j*(1/0.0001)*8.314*T)/(2*F*p_a*101325*D_effa*0.0001))) - 4.4*a - C \n",
    "    eqn2 = 10 + 4*(p_c/p_SAT)*(x_wd + t_C*0.000001*(((1+a)*j*(1/0.0001)*R*T)/(2*F*p_c*101325*D_effc*0.0001))) - 4.4*a - C*exp((0.000598*j*t_m*0.0001)/(0.00000381))\n",
    "    return [eqn1, eqn2]\n",
    "\n",
    "#NOTE: 0.0000001 is the conversion from um to m, (1/0.0001) is conversion from\n",
    "#cm^2 to m^2, 101325 is for atm to Pa, 0.0001 is converstion from cm^2 to\n",
    "#m^2)"
   ]
  },
  {
   "cell_type": "code",
   "execution_count": 5,
   "metadata": {},
   "outputs": [],
   "source": [
    "#now to solve for conductivity profile of the membrane, sigma(z). Equation\n",
    "#is based off of(6.40) on p.221, it is based on properties of Nafion. f\n",
    "#represents sigma(z), further, fInt is ASR or area specific resistance\n",
    "#since f represents sigma(z), ASR or area specific resistance (fInt in MATLAB)\n",
    "\n",
    "def ASR(z, a, C):\n",
    "    return 1/((0.005193*(4.4*a + C*exp((0.000598*j*z)/(0.00000381)))- 0.00326)*exp(1268*((1/303)-(1/T))))"
   ]
  },
  {
   "cell_type": "code",
   "execution_count": 6,
   "metadata": {},
   "outputs": [],
   "source": [
    "#for E_t or theoretical value of FC\n",
    "def theoreticalPotential():\n",
    "    return 1.0\n",
    "#1.0 volts, ideal voltage"
   ]
  },
  {
   "cell_type": "code",
   "execution_count": 7,
   "metadata": {},
   "outputs": [],
   "source": [
    "#ohmic potential function\n",
    "def ohmicPotential():\n",
    "    solution = opt.fsolve(eqn, (.1,1))\n",
    "    [a , C] = solution\n",
    "    result = quad(ASR, 0, t_m*0.0001, args = (a, C))\n",
    "    return result[0]\n"
   ]
  },
  {
   "cell_type": "code",
   "execution_count": 8,
   "metadata": {},
   "outputs": [],
   "source": [
    "#cathode overpotential / equation (6.27) p. 217 \n",
    "#assume alpha (charge transfer coefficient) is 0.5\n",
    "\n",
    "def cathodicPotential():\n",
    "    return (((R*T)/(4*0.5*F))*log(j/(j_0*p_c*101300)*1/(x_o-t_C*0.000001*(j*10000*R*T)/(4*F*p_c*101325*D_effc*0.0001))))"
   ]
  },
  {
   "cell_type": "code",
   "execution_count": 9,
   "metadata": {},
   "outputs": [
    {
     "name": "stderr",
     "output_type": "stream",
     "text": [
      "C:\\ProgramData\\Anaconda3\\lib\\site-packages\\ipykernel_launcher.py:5: RuntimeWarning: invalid value encountered in log\n",
      "  \"\"\"\n",
      "C:\\ProgramData\\Anaconda3\\lib\\site-packages\\scipy\\optimize\\minpack.py:162: RuntimeWarning: The iteration is not making good progress, as measured by the \n",
      "  improvement from the last ten iterations.\n",
      "  warnings.warn(msg, RuntimeWarning)\n",
      "C:\\ProgramData\\Anaconda3\\lib\\site-packages\\ipykernel_launcher.py:7: RuntimeWarning: divide by zero encountered in double_scalars\n",
      "  import sys\n",
      "C:\\ProgramData\\Anaconda3\\lib\\site-packages\\ipykernel_launcher.py:5: IntegrationWarning: The integral is probably divergent, or slowly convergent.\n",
      "  \"\"\"\n",
      "C:\\ProgramData\\Anaconda3\\lib\\site-packages\\ipykernel_launcher.py:5: IntegrationWarning: The maximum number of subdivisions (50) has been achieved.\n",
      "  If increasing the limit yields no improvement it is advised to analyze \n",
      "  the integrand in order to determine the difficulties.  If the position of a \n",
      "  local difficulty can be determined (singularity, discontinuity) one will \n",
      "  probably gain from splitting up the interval and calling the integrator \n",
      "  on the subranges.  Perhaps a special-purpose integrator should be used.\n",
      "  \"\"\"\n",
      "C:\\ProgramData\\Anaconda3\\lib\\site-packages\\ipykernel_launcher.py:5: IntegrationWarning: The algorithm does not converge.  Roundoff error is detected\n",
      "  in the extrapolation table.  It is assumed that the requested tolerance\n",
      "  cannot be achieved, and that the returned result (if full_output = 1) is \n",
      "  the best which can be obtained.\n",
      "  \"\"\"\n",
      "C:\\ProgramData\\Anaconda3\\lib\\site-packages\\ipykernel_launcher.py:5: IntegrationWarning: Extremely bad integrand behavior occurs at some points of the\n",
      "  integration interval.\n",
      "  \"\"\"\n"
     ]
    }
   ],
   "source": [
    "#initialization \n",
    "j = 0\n",
    "#current density [a/cm^2]\n",
    "V = []\n",
    "#list of voltages after change in current density\n",
    "\n",
    "for i in range(10000):\n",
    "    if j == 0:\n",
    "        V.append(1.0)\n",
    "        j = j + 0.01\n",
    "    else: \n",
    "        V.append(theoreticalPotential() - ohmicPotential() - cathodicPotential()) \n",
    "        j = j + 0.01\n",
    "        \n",
    "\n"
   ]
  },
  {
   "cell_type": "code",
   "execution_count": 10,
   "metadata": {},
   "outputs": [
    {
     "data": {
      "image/png": "[encoded data removed]",
      "text/plain": [
       "<Figure size 432x288 with 1 Axes>"
      ]
     },
     "metadata": {
      "needs_background": "light"
     },
     "output_type": "display_data"
    }
   ],
   "source": [
    "import matplotlib.pyplot as plt\n",
    "%matplotlib inline\n",
    "plt.plot(V[0:9999])\n",
    "plt.show()"
   ]
  }
 ],
 "metadata": {
  "kernelspec": {
   "display_name": "Python 3",
   "language": "python",
   "name": "python3"
  },
  "language_info": {
   "codemirror_mode": {
    "name": "ipython",
    "version": 3
   },
   "file_extension": ".py",
   "mimetype": "text/x-python",
   "name": "python",
   "nbconvert_exporter": "python",
   "pygments_lexer": "ipython3",
   "version": "3.7.3"
  }
 },
 "nbformat": 4,
 "nbformat_minor": 2
}
